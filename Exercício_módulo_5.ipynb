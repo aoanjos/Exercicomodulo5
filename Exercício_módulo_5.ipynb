{
  "nbformat": 4,
  "nbformat_minor": 0,
  "metadata": {
    "colab": {
      "provenance": []
    },
    "kernelspec": {
      "name": "python3",
      "display_name": "Python 3"
    },
    "language_info": {
      "name": "python"
    }
  },
  "cells": [
    {
      "cell_type": "markdown",
      "source": [
        "#EXERCÍCIO 5"
      ],
      "metadata": {
        "id": "7e_5HSOqOkx7"
      }
    },
    {
      "cell_type": "code",
      "source": [
        "# Receber dois números inteiros do usuário\n",
        "num1 = int(input(\"Digite o primeiro número inteiro: \"))\n",
        "num2 = int(input(\"Digite o segundo número inteiro: \"))\n",
        "\n",
        "# Calcular a média\n",
        "media = (num1 + num2) / 2\n",
        "\n",
        "# Verificar se cada número é maior ou menor do que a média\n",
        "if num1 > media:\n",
        "    print(f\"O primeiro número ({num1}) é maior que a média ({media}).\")\n",
        "else:\n",
        "    print(f\"O primeiro número ({num1}) é menor ou igual à média ({media}).\")\n",
        "\n",
        "if num2 > media:\n",
        "    print(f\"O segundo número ({num2}) é maior que a média ({media}).\")\n",
        "else:\n",
        "    print(f\"O segundo número ({num2}) é menor ou igual à média ({media}).\")"
      ],
      "metadata": {
        "colab": {
          "base_uri": "https://localhost:8080/"
        },
        "id": "b8AZhs4Vp-Q-",
        "outputId": "a52b8f5a-4c10-40c5-a3ce-9c8d9ba9ead6"
      },
      "execution_count": 3,
      "outputs": [
        {
          "output_type": "stream",
          "name": "stdout",
          "text": [
            "Digite o primeiro número inteiro: 5\n",
            "Digite o segundo número inteiro: 10\n",
            "O primeiro número (5) é menor ou igual à média (7.5).\n",
            "O segundo número (10) é maior que a média (7.5).\n"
          ]
        }
      ]
    },
    {
      "cell_type": "code",
      "source": [
        "# Receber dois números do usuário\n",
        "num1 = float(input(\"Digite o primeiro número: \"))\n",
        "num2 = float(input(\"Digite o segundo número: \"))\n",
        "\n",
        "# Calcular a média\n",
        "media = (num1 + num2) / 2\n",
        "\n",
        "# Verificar se cada número é maior ou menor do que a média\n",
        "if num1 > media:\n",
        "    print(f\"O primeiro número ({num1}) é maior que a média ({media}).\")\n",
        "else:\n",
        "    print(f\"O primeiro número ({num1}) é menor ou igual à média ({media}).\")\n",
        "\n",
        "if num2 > media:\n",
        "    print(f\"O segundo número ({num2}) é maior que a média ({media}).\")\n",
        "else:\n",
        "    print(f\"O segundo número ({num2}) é menor ou igual à média ({media}).\")"
      ],
      "metadata": {
        "id": "hhxoUPM3OuWZ",
        "colab": {
          "base_uri": "https://localhost:8080/"
        },
        "outputId": "ca94b924-e282-4be5-add8-99ee7c67a7d9"
      },
      "execution_count": 1,
      "outputs": [
        {
          "output_type": "stream",
          "name": "stdout",
          "text": [
            "Digite o primeiro número: 8\n",
            "Digite o segundo número: 7\n",
            "O primeiro número (8.0) é maior que a média (7.5).\n",
            "O segundo número (7.0) é menor ou igual à média (7.5).\n"
          ]
        }
      ]
    },
    {
      "cell_type": "code",
      "source": [
        "while True:\n",
        "    # Receber dois números de entrada do usuário\n",
        "    try:\n",
        "        num1 = float(input(\"Digite o primeiro número: \"))\n",
        "        num2 = float(input(\"Digite o segundo número: \"))\n",
        "    except ValueError:\n",
        "        print(\"Entrada inválida. Por favor, insira números válidos.\")\n",
        "        continue\n",
        "\n",
        "    # Exibir opções de operação\n",
        "    print(\"\\nEscolha a operação que deseja realizar:\")\n",
        "    print(\"1 - Adição\")\n",
        "    print(\"2 - Subtração\")\n",
        "    print(\"3 - Multiplicação\")\n",
        "    print(\"4 - Divisão\")\n",
        "    print(\"5 - Sair\")\n",
        "\n",
        "    # Receber a escolha do usuário\n",
        "    operacao = input(\"Digite o número da operação: \")\n",
        "\n",
        "    # Verificar se o usuário quer sair\n",
        "    if operacao == \"5\":\n",
        "        print(\"Saindo do programa...\")\n",
        "        break\n",
        "\n",
        "    # Realizar a operação com base na escolha do usuário\n",
        "    if operacao == \"1\":\n",
        "        resultado = num1 + num2\n",
        "        print(f\"O resultado da adição é: {resultado}\")\n",
        "    elif operacao == \"2\":\n",
        "        resultado = num1 - num2\n",
        "        print(f\"O resultado da subtração é: {resultado}\")\n",
        "    elif operacao == \"3\":\n",
        "        resultado = num1 * num2\n",
        "        print(f\"O resultado da multiplicação é: {resultado}\")\n",
        "    elif operacao == \"4\":\n",
        "        # Verificar divisão por zero\n",
        "        if num2 != 0:\n",
        "            resultado = num1 / num2\n",
        "            print(f\"O resultado da divisão é: {resultado}\")\n",
        "        else:\n",
        "            print(\"Erro: Divisão por zero não permitida.\")\n",
        "    else:\n",
        "        print(\"Escolha inválida. Tente novamente.\")\n",
        "        continue\n",
        "\n",
        "    # Perguntar se o usuário deseja realizar outra operação\n",
        "    continuar = input(\"\\nDeseja realizar outra operação? (s/n): \").lower()\n",
        "    if continuar != \"s\":\n",
        "        print(\"Saindo do programa...\")\n",
        "        break"
      ],
      "metadata": {
        "colab": {
          "base_uri": "https://localhost:8080/"
        },
        "id": "oQB7OP_dqXv2",
        "outputId": "338ff5bd-7b35-4ea9-e592-ae619b96febb"
      },
      "execution_count": 4,
      "outputs": [
        {
          "output_type": "stream",
          "name": "stdout",
          "text": [
            "Digite o primeiro número: 5\n",
            "Digite o segundo número: 6\n",
            "\n",
            "Escolha a operação que deseja realizar:\n",
            "1 - Adição\n",
            "2 - Subtração\n",
            "3 - Multiplicação\n",
            "4 - Divisão\n",
            "5 - Sair\n",
            "Digite o número da operação: 3\n",
            "O resultado da multiplicação é: 30.0\n",
            "\n",
            "Deseja realizar outra operação? (s/n): s\n",
            "Digite o primeiro número: 10\n",
            "Digite o segundo número: 8\n",
            "\n",
            "Escolha a operação que deseja realizar:\n",
            "1 - Adição\n",
            "2 - Subtração\n",
            "3 - Multiplicação\n",
            "4 - Divisão\n",
            "5 - Sair\n",
            "Digite o número da operação: 2\n",
            "O resultado da subtração é: 2.0\n",
            "\n",
            "Deseja realizar outra operação? (s/n): s\n",
            "Digite o primeiro número: 6\n",
            "Digite o segundo número: 8\n",
            "\n",
            "Escolha a operação que deseja realizar:\n",
            "1 - Adição\n",
            "2 - Subtração\n",
            "3 - Multiplicação\n",
            "4 - Divisão\n",
            "5 - Sair\n",
            "Digite o número da operação: 2\n",
            "O resultado da subtração é: -2.0\n",
            "\n",
            "Deseja realizar outra operação? (s/n): n\n",
            "Saindo do programa...\n"
          ]
        }
      ]
    }
  ]
}